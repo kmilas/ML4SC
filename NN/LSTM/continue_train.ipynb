{
 "cells": [
  {
   "cell_type": "code",
   "execution_count": 2,
   "metadata": {},
   "outputs": [
    {
     "data": {
      "text/html": [
       "Finishing previous runs because reinit is set to 'default'."
      ],
      "text/plain": [
       "<IPython.core.display.HTML object>"
      ]
     },
     "metadata": {},
     "output_type": "display_data"
    },
    {
     "data": {
      "text/html": [],
      "text/plain": [
       "<IPython.core.display.HTML object>"
      ]
     },
     "metadata": {},
     "output_type": "display_data"
    },
    {
     "data": {
      "text/html": [
       " View run <strong style=\"color:#cdcd00\">trim-darkness-43</strong> at: <a href='https://wandb.ai/skapetis-tu-e/uncategorized/runs/4xu9hbz2' target=\"_blank\">https://wandb.ai/skapetis-tu-e/uncategorized/runs/4xu9hbz2</a><br> View project at: <a href='https://wandb.ai/skapetis-tu-e/uncategorized' target=\"_blank\">https://wandb.ai/skapetis-tu-e/uncategorized</a><br>Synced 5 W&B file(s), 0 media file(s), 0 artifact file(s) and 0 other file(s)"
      ],
      "text/plain": [
       "<IPython.core.display.HTML object>"
      ]
     },
     "metadata": {},
     "output_type": "display_data"
    },
    {
     "data": {
      "text/html": [
       "Find logs at: <code>.\\wandb\\run-20250605_200555-4xu9hbz2\\logs</code>"
      ],
      "text/plain": [
       "<IPython.core.display.HTML object>"
      ]
     },
     "metadata": {},
     "output_type": "display_data"
    },
    {
     "data": {
      "text/html": [
       "Tracking run with wandb version 0.19.11"
      ],
      "text/plain": [
       "<IPython.core.display.HTML object>"
      ]
     },
     "metadata": {},
     "output_type": "display_data"
    },
    {
     "data": {
      "text/html": [
       "Run data is saved locally in <code>c:\\Users\\xskap\\Documents\\Eindhoven\\2025_Q4\\5SC28_ML_systems_control\\lstm\\wandb\\run-20250605_200657-ot3ph43r</code>"
      ],
      "text/plain": [
       "<IPython.core.display.HTML object>"
      ]
     },
     "metadata": {},
     "output_type": "display_data"
    },
    {
     "data": {
      "text/html": [
       "Syncing run <strong><a href='https://wandb.ai/skapetis-tu-e/uncategorized/runs/ot3ph43r' target=\"_blank\">clean-water-44</a></strong> to <a href='https://wandb.ai/skapetis-tu-e/uncategorized' target=\"_blank\">Weights & Biases</a> (<a href='https://wandb.me/developer-guide' target=\"_blank\">docs</a>)<br>"
      ],
      "text/plain": [
       "<IPython.core.display.HTML object>"
      ]
     },
     "metadata": {},
     "output_type": "display_data"
    },
    {
     "data": {
      "text/html": [
       " View project at <a href='https://wandb.ai/skapetis-tu-e/uncategorized' target=\"_blank\">https://wandb.ai/skapetis-tu-e/uncategorized</a>"
      ],
      "text/plain": [
       "<IPython.core.display.HTML object>"
      ]
     },
     "metadata": {},
     "output_type": "display_data"
    },
    {
     "data": {
      "text/html": [
       " View run at <a href='https://wandb.ai/skapetis-tu-e/uncategorized/runs/ot3ph43r' target=\"_blank\">https://wandb.ai/skapetis-tu-e/uncategorized/runs/ot3ph43r</a>"
      ],
      "text/plain": [
       "<IPython.core.display.HTML object>"
      ]
     },
     "metadata": {},
     "output_type": "display_data"
    },
    {
     "name": "stdout",
     "output_type": "stream",
     "text": [
      "Loaded pretrained weights from model_lilac-sweep-13.pt\n"
     ]
    },
    {
     "ename": "TypeError",
     "evalue": "ReduceLROnPlateau.__init__() got an unexpected keyword argument 'verbose'",
     "output_type": "error",
     "traceback": [
      "\u001b[1;31m---------------------------------------------------------------------------\u001b[0m",
      "\u001b[1;31mTypeError\u001b[0m                                 Traceback (most recent call last)",
      "Cell \u001b[1;32mIn[2], line 137\u001b[0m\n\u001b[0;32m    135\u001b[0m \u001b[38;5;66;03m# Script Entry Point\u001b[39;00m\n\u001b[0;32m    136\u001b[0m \u001b[38;5;28;01mif\u001b[39;00m \u001b[38;5;18m__name__\u001b[39m \u001b[38;5;241m==\u001b[39m \u001b[38;5;124m\"\u001b[39m\u001b[38;5;124m__main__\u001b[39m\u001b[38;5;124m\"\u001b[39m:\n\u001b[1;32m--> 137\u001b[0m     train()\n",
      "Cell \u001b[1;32mIn[2], line 86\u001b[0m, in \u001b[0;36mtrain\u001b[1;34m()\u001b[0m\n\u001b[0;32m     83\u001b[0m \u001b[38;5;28mprint\u001b[39m(\u001b[38;5;124m\"\u001b[39m\u001b[38;5;124mLoaded pretrained weights from model_lilac-sweep-13.pt\u001b[39m\u001b[38;5;124m\"\u001b[39m)\n\u001b[0;32m     85\u001b[0m optimizer \u001b[38;5;241m=\u001b[39m optim\u001b[38;5;241m.\u001b[39mAdam(model\u001b[38;5;241m.\u001b[39mparameters(), lr\u001b[38;5;241m=\u001b[39mconfig\u001b[38;5;241m.\u001b[39mlearning_rate)\n\u001b[1;32m---> 86\u001b[0m scheduler \u001b[38;5;241m=\u001b[39m optim\u001b[38;5;241m.\u001b[39mlr_scheduler\u001b[38;5;241m.\u001b[39mReduceLROnPlateau(optimizer, mode\u001b[38;5;241m=\u001b[39m\u001b[38;5;124m'\u001b[39m\u001b[38;5;124mmin\u001b[39m\u001b[38;5;124m'\u001b[39m,\n\u001b[0;32m     87\u001b[0m                                                  factor\u001b[38;5;241m=\u001b[39m\u001b[38;5;241m0.5\u001b[39m, patience\u001b[38;5;241m=\u001b[39m\u001b[38;5;241m5\u001b[39m,\n\u001b[0;32m     88\u001b[0m                                                  verbose\u001b[38;5;241m=\u001b[39m\u001b[38;5;28;01mTrue\u001b[39;00m)\n\u001b[0;32m     89\u001b[0m loss_fn \u001b[38;5;241m=\u001b[39m nn\u001b[38;5;241m.\u001b[39mMSELoss()\n\u001b[0;32m     91\u001b[0m \u001b[38;5;28;01mfor\u001b[39;00m epoch \u001b[38;5;129;01min\u001b[39;00m \u001b[38;5;28mrange\u001b[39m(config\u001b[38;5;241m.\u001b[39mepochs):\n",
      "\u001b[1;31mTypeError\u001b[0m: ReduceLROnPlateau.__init__() got an unexpected keyword argument 'verbose'"
     ]
    }
   ],
   "source": [
    "import torch\n",
    "import torch.nn as nn\n",
    "import torch.optim as optim\n",
    "import wandb\n",
    "import numpy as np\n",
    "\n",
    "# NOELSTM Model\n",
    "class NOELSTM(nn.Module):\n",
    "    def __init__(self, input_size, hidden_size, num_layers, output_size):\n",
    "        super(NOELSTM, self).__init__()\n",
    "        self.lstm = nn.LSTM(input_size, hidden_size, num_layers, batch_first=True).double()\n",
    "        self.fc = nn.Linear(hidden_size, output_size).double()\n",
    "\n",
    "    def forward(self, x):\n",
    "        out, _ = self.lstm(x)\n",
    "        out = self.fc(out[:, -1, :])\n",
    "        return out\n",
    "\n",
    "# Create Sequences for NOE\n",
    "def create_sequences(theta, omega, u, seq_len):\n",
    "    X, Y = [], []\n",
    "    for i in range(len(theta) - seq_len):\n",
    "        x_seq = np.stack([theta[i:i+seq_len], omega[i:i+seq_len], u[i:i+seq_len]], axis=1)\n",
    "        y_target = [theta[i+seq_len], omega[i+seq_len]]\n",
    "        X.append(x_seq)\n",
    "        Y.append(y_target)\n",
    "    return np.array(X), np.array(Y)\n",
    "\n",
    "# Main Training Function\n",
    "def train():\n",
    "    wandb.init(config={\n",
    "        \"sequence_length\": 10,\n",
    "        \"hidden_size\": 64,\n",
    "        \"num_layers\": 1,\n",
    "        \"learning_rate\": 1e-3,\n",
    "        \"batch_size\": 64,\n",
    "        \"epochs\": 100\n",
    "    })\n",
    "    config = wandb.config\n",
    "\n",
    "    # Load preprocessed data\n",
    "    theta = np.load(\"theta.npy\")  # shape: (T,)\n",
    "    omega = np.load(\"omega.npy\")  # shape: (T,)\n",
    "    u = np.load(\"u.npy\")          # shape: (T,)\n",
    "\n",
    "    # Normalize\n",
    "    theta_mean, theta_std = theta.mean(), theta.std()\n",
    "    omega_mean, omega_std = omega.mean(), omega.std()\n",
    "    u_mean, u_std = u.mean(), u.std()\n",
    "\n",
    "    theta = (theta - theta_mean) / theta_std\n",
    "    omega = (omega - omega_mean) / omega_std\n",
    "    u = (u - u_mean) / u_std\n",
    "\n",
    "    train_NRMS_list = []\n",
    "    val_NRMS_list = []\n",
    "\n",
    "    # Create sequences\n",
    "    X, Y = create_sequences(theta, omega, u, config.sequence_length)\n",
    "\n",
    "    # Convert to tensors\n",
    "    X_tensor = torch.tensor(X).double()\n",
    "    Y_tensor = torch.tensor(Y).double()\n",
    "\n",
    "    # Split: 80% train, 20% val\n",
    "    split = int(0.8 * len(X_tensor))\n",
    "    X_train, X_val = X_tensor[:split], X_tensor[split:]\n",
    "    Y_train, Y_val = Y_tensor[:split], Y_tensor[split:]\n",
    "\n",
    "    # Move to device\n",
    "    device = torch.device(\"cuda\" if torch.cuda.is_available() else \"cpu\")\n",
    "    X_train, Y_train = X_train.to(device), Y_train.to(device)\n",
    "    X_val, Y_val = X_val.to(device), Y_val.to(device)\n",
    "\n",
    "    # Initialize model\n",
    "    model = NOELSTM(input_size=3,\n",
    "                    hidden_size=config.hidden_size,\n",
    "                    num_layers=config.num_layers,\n",
    "                    output_size=2).to(device)\n",
    "\n",
    "    # Load pretrained weights\n",
    "    model.load_state_dict(torch.load(\"model_lilac-sweep-13.pt\", map_location=device))\n",
    "    print(\"Loaded pretrained weights from model_lilac-sweep-13.pt\")\n",
    "\n",
    "    optimizer = optim.Adam(model.parameters(), lr=config.learning_rate)\n",
    "    scheduler = optim.lr_scheduler.ReduceLROnPlateau(optimizer, mode='min',\n",
    "                                                 factor=0.5, patience=5)\n",
    "\n",
    "    loss_fn = nn.MSELoss()\n",
    "\n",
    "    for epoch in range(config.epochs):\n",
    "        model.train()\n",
    "        permutation = torch.randperm(X_train.size(0))\n",
    "        for i in range(0, X_train.size(0), config.batch_size):\n",
    "            indices = permutation[i:i + config.batch_size]\n",
    "            batch_x, batch_y = X_train[indices], Y_train[indices]\n",
    "\n",
    "            optimizer.zero_grad()\n",
    "            output = model(batch_x)\n",
    "            loss = loss_fn(output, batch_y)\n",
    "            loss.backward()\n",
    "            optimizer.step()\n",
    "\n",
    "        # Validation loss\n",
    "        model.eval()\n",
    "        with torch.no_grad():\n",
    "            val_pred = model(X_val)\n",
    "            val_loss = loss_fn(val_pred, Y_val)\n",
    "\n",
    "        scheduler.step(val_loss)\n",
    "\n",
    "        # Compute NRMS\n",
    "        train_nrms = loss.item() / torch.std(Y_train).item()\n",
    "        val_nrms = val_loss.item() / torch.std(Y_val).item()\n",
    "\n",
    "        train_NRMS_list.append(train_nrms)\n",
    "        val_NRMS_list.append(val_nrms)\n",
    "\n",
    "        wandb.log({\n",
    "            \"epoch\": epoch,\n",
    "            \"train_loss\": loss.item(),\n",
    "            \"val_loss\": val_loss.item(),\n",
    "            \"train_NRMS\": train_nrms,\n",
    "            \"val_NRMS\": val_nrms,\n",
    "            \"lr\": optimizer.param_groups[0][\"lr\"]\n",
    "        })\n",
    "\n",
    "        if epoch % 10 == 0 or epoch == config.epochs - 1:\n",
    "            print(f\"Epoch {epoch} | Train Loss: {loss.item():.4f} | Val Loss: {val_loss.item():.4f}\")\n",
    "\n",
    "    # Save fine-tuned model\n",
    "    torch.save(model.state_dict(), f\"model_{wandb.run.name}_finetuned.pt\")\n",
    "    print(f\"Fine-tuned model saved as model_{wandb.run.name}_finetuned.pt\")\n",
    "\n",
    "# Script Entry Point\n",
    "if __name__ == \"__main__\":\n",
    "    train()\n"
   ]
  }
 ],
 "metadata": {
  "kernelspec": {
   "display_name": "ml4sc",
   "language": "python",
   "name": "python3"
  },
  "language_info": {
   "codemirror_mode": {
    "name": "ipython",
    "version": 3
   },
   "file_extension": ".py",
   "mimetype": "text/x-python",
   "name": "python",
   "nbconvert_exporter": "python",
   "pygments_lexer": "ipython3",
   "version": "3.11.11"
  }
 },
 "nbformat": 4,
 "nbformat_minor": 2
}
